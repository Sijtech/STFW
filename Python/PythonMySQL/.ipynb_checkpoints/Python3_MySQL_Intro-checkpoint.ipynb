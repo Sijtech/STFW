{
 "cells": [
  {
   "cell_type": "markdown",
   "metadata": {},
   "source": [
    "# Python und MySQL (python3)"
   ]
  },
  {
   "cell_type": "markdown",
   "metadata": {},
   "source": [
    "# Einführung (mit R aus CRUD)"
   ]
  },
  {
   "cell_type": "markdown",
   "metadata": {},
   "source": [
    "**Hinweise:** \n",
    "- Dieses Notebook funktioniert auch mit Python 2, wenn die Print-Statementes entsprechend angepasst werden!\n",
    "- Dieses Notebook zeigt nur die wesentlichen Befehle um aus Python mit SQL-Datenbanken arbeiten zu können. Es werden keine Sicherheitsmassnahmen getroffen (z.B. was wenn das SQL-Statement einen Fehler zurückgibt, oder was wenn die Verbindung nicht aufgebaut werden kann, ...). Im selbständig durchzuarbeitenden Beispiel für die verschiedenen Cursor-Arten sind solche Vorkehrungen getroffen. Gerne können diese selbständig in dieses Notebook integriert werden."
   ]
  },
  {
   "cell_type": "markdown",
   "metadata": {},
   "source": [
    "Um aus Python auf eine SQL-Datenbank zugreifen zu können, muss die entsprechende Bibliothek eingebunden werden. "
   ]
  },
  {
   "cell_type": "code",
   "execution_count": 1,
   "metadata": {},
   "outputs": [],
   "source": [
    "import mysql.connector"
   ]
  },
  {
   "cell_type": "markdown",
   "metadata": {},
   "source": [
    "Als nächstes muss eine Verbindung zur Datenbank (mit gültigen Credentials) hergestellt werden.  "
   ]
  },
  {
   "cell_type": "code",
   "execution_count": 2,
   "metadata": {
    "collapsed": true
   },
   "outputs": [],
   "source": [
    "dbConnection = mysql.connector.connect(host = \"localhost\", \n",
    "                                       user = \"root\", \n",
    "                                       passwd = \"pkmlp\", \n",
    "                                       db = \"Heizungsmonteur\")"
   ]
  },
  {
   "cell_type": "markdown",
   "metadata": {},
   "source": [
    "Da bei der Abfrage einer relationalen Datenbanken immer eine Menge (leere Menge, eine Menge mit genau einem Attribut, oder eine Menge, die die gesamte Tabellen beinhaltet) zurückgibt, muss ein Cursor definiert werden, damit die Resultatmenge dann Zeile für Zeile abgearbeitet werden kann."
   ]
  },
  {
   "cell_type": "code",
   "execution_count": 13,
   "metadata": {
    "collapsed": true
   },
   "outputs": [],
   "source": [
    "dbCursor = dbConnection.cursor()"
   ]
  },
  {
   "cell_type": "markdown",
   "metadata": {},
   "source": [
    "Dann wird das auszuführende SQL-Statement aufbereitet"
   ]
  },
  {
   "cell_type": "code",
   "execution_count": 14,
   "metadata": {
    "collapsed": true
   },
   "outputs": [],
   "source": [
    "sqlStatement = \"select M_Name, Abteilung from Monteur, Abteilung where Monteur.A_Nr = Abteilung.A_Nr;\""
   ]
  },
  {
   "cell_type": "markdown",
   "metadata": {},
   "source": [
    "Der Cursor nimmt das Resultat des SQL-Statements auf."
   ]
  },
  {
   "cell_type": "code",
   "execution_count": 19,
   "metadata": {
    "collapsed": true
   },
   "outputs": [],
   "source": [
    "dbCursor.execute(sqlStatement)"
   ]
  },
  {
   "cell_type": "markdown",
   "metadata": {},
   "source": [
    "Nun ist die Resultatmenge im dbCursor. Doch was ist eigentlich ein dbCursor?"
   ]
  },
  {
   "cell_type": "code",
   "execution_count": 6,
   "metadata": {},
   "outputs": [
    {
     "data": {
      "text/plain": [
       "mysql.connector.cursor.MySQLCursor"
      ]
     },
     "execution_count": 6,
     "metadata": {},
     "output_type": "execute_result"
    }
   ],
   "source": [
    "type(dbCursor)"
   ]
  },
  {
   "cell_type": "markdown",
   "metadata": {},
   "source": [
    "Und was ist darin enthalten?"
   ]
  },
  {
   "cell_type": "code",
   "execution_count": 11,
   "metadata": {},
   "outputs": [
    {
     "name": "stdout",
     "output_type": "stream",
     "text": [
      "MySQLCursor: select M_Name, Abteilung from ..\n"
     ]
    }
   ],
   "source": [
    "print(dbCursor)"
   ]
  },
  {
   "cell_type": "markdown",
   "metadata": {},
   "source": [
    "Ausgeben der Kunden-Daten in der Tabelle (resp. im Cursor):"
   ]
  },
  {
   "cell_type": "code",
   "execution_count": 16,
   "metadata": {},
   "outputs": [
    {
     "name": "stdout",
     "output_type": "stream",
     "text": [
      "(u'Roth', u'B\\xfcro')\n",
      "(u'Gelb', u'Sanitaer')\n",
      "(u'Braun', u'Heizung')\n",
      "(u'Weiss', u'Sanitaer')\n"
     ]
    }
   ],
   "source": [
    "for monteurZeile in dbCursor:\n",
    "    print(monteurZeile)"
   ]
  },
  {
   "cell_type": "markdown",
   "metadata": {},
   "source": [
    "Diesen Datentyp kennen wir doch und zum Glück wissen wir auch wie damit umzugehen ist."
   ]
  },
  {
   "cell_type": "code",
   "execution_count": 20,
   "metadata": {},
   "outputs": [
    {
     "name": "stdout",
     "output_type": "stream",
     "text": [
      "('Name:', u'Roth', 'Abteilung:', u'B\\xfcro')\n",
      "('Name:', u'Gelb', 'Abteilung:', u'Sanitaer')\n",
      "('Name:', u'Braun', 'Abteilung:', u'Heizung')\n",
      "('Name:', u'Weiss', 'Abteilung:', u'Sanitaer')\n"
     ]
    }
   ],
   "source": [
    "for monteurZeile in dbCursor:\n",
    "    print(\"Name:\", monteurZeile[0], \"Abteilung:\", monteurZeile[1])"
   ]
  },
  {
   "cell_type": "markdown",
   "metadata": {},
   "source": [
    "**Hinweis:** Im ersten Versuch hat obige Zelle keinen Output erzeugt. Dies liegt daran, dass wenn ein Cursor abgearbeitet ist, dieser \"weg\" ist. Wir müssen also das SQL-Statement erneut ausführen, damit wir den dbCursor erneut abarbeiten können. Also einfach dbCursor.execute(sqlStatement) in der Zelle etwas oberhalb erneut ausführen und ddann wieder auf die obige Zelle zurück. Das ist absolut normal, da in normalen Programmen die Cursor i.d.R. nur einmal abgearbeitet werden müssen."
   ]
  },
  {
   "cell_type": "markdown",
   "metadata": {},
   "source": [
    "Sind wir fertig mit unserer Arbeit, schliessen wir die Verbindung zur Datenbank."
   ]
  },
  {
   "cell_type": "code",
   "execution_count": null,
   "metadata": {
    "collapsed": true
   },
   "outputs": [],
   "source": [
    "dbConnection.close()"
   ]
  },
  {
   "cell_type": "markdown",
   "metadata": {},
   "source": [
    "# Aufgabe (ergänze C,U und D aus CRUD)"
   ]
  },
  {
   "cell_type": "markdown",
   "metadata": {},
   "source": [
    "Ergänze dieses Beispiel mit mindestens je einem Create (INSERT ... INTO ...), einem Update (Update ... WHERE ...) und einem Delete (DELETE ... FROM ... WHERE ...) Beispiel, damit Du alle (CRUD-) Befehle in diesem Notebook hast. Zur Kontrolle ob Deine Befehle auch wirklich funktioniert haben, kannst Du entweder die Resultate auf der DB mit der MySQL Workbench oder im MySQL-CLI überprüfen. Du kannst aber auch obige Zeilen immer wieder verwenden, um die Tabelle Monteur abzufragen.\n",
    "\n",
    "**Hinweis:** Die geforderten Befehle sind auch nur SQL-Statements. Diese können also analog dem SELECT-Statement abgesetzt werden. Diese Befehle geben jedoch keinen Cursor (keine Tabelle) zurück. Überlege dir, was denn die Befehle zurückgeben (setze doch einmal einen solchen Befehl in der CLI oder im GUI ab) und wie Du damit in Python umgehen kannst. "
   ]
  },
  {
   "cell_type": "code",
   "execution_count": 28,
   "metadata": {},
   "outputs": [
    {
     "name": "stdout",
     "output_type": "stream",
     "text": [
      "(u'A1', u'Heizung')\n",
      "(u'A2', u'Sanitaer')\n",
      "(u'A3', u'B\\xfcro')\n"
     ]
    }
   ],
   "source": [
    "#Read\n",
    "sqlRead = \"select * from Abteilung;\"\n",
    "dbCursor.execute(sqlRead)\n",
    "for monteurZeile in dbCursor:\n",
    "    print(monteurZeile)\n"
   ]
  },
  {
   "cell_type": "code",
   "execution_count": 22,
   "metadata": {
    "collapsed": true
   },
   "outputs": [],
   "source": [
    "#Create\n",
    "sqlCreate = \"insert into Abteilung values ('A4', 'IT');\"\n",
    "dbCursor.execute(sqlCreate)"
   ]
  },
  {
   "cell_type": "code",
   "execution_count": 25,
   "metadata": {},
   "outputs": [],
   "source": [
    "#Update\n",
    "sqlUpdate = \"update Abteilung set Abteilung = 'ITler' where A_Nr like 'A4';\"\n",
    "dbCursor.execute(sqlUpdate)"
   ]
  },
  {
   "cell_type": "code",
   "execution_count": 27,
   "metadata": {
    "collapsed": true
   },
   "outputs": [],
   "source": [
    "#Delete\n",
    "sqlDelete = \"delete from Abteilung where A_Nr like 'A4';\"\n",
    "dbCursor.execute(sqlDelete)"
   ]
  },
  {
   "cell_type": "markdown",
   "metadata": {},
   "source": [
    "That's all Folks"
   ]
  }
 ],
 "metadata": {
  "kernelspec": {
   "display_name": "Python 2",
   "language": "python",
   "name": "python2"
  },
  "language_info": {
   "codemirror_mode": {
    "name": "ipython",
    "version": 2
   },
   "file_extension": ".py",
   "mimetype": "text/x-python",
   "name": "python",
   "nbconvert_exporter": "python",
   "pygments_lexer": "ipython2",
   "version": "2.7.14"
  }
 },
 "nbformat": 4,
 "nbformat_minor": 1
}
