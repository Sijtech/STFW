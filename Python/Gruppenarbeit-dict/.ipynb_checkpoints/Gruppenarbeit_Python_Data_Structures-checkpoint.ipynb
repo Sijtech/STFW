{
 "cells": [
  {
   "cell_type": "markdown",
   "metadata": {},
   "source": [
    "# Python Data Structure: dict"
   ]
  },
  {
   "cell_type": "markdown",
   "metadata": {},
   "source": [
    "Dieses Beispiel behandelt Python (list, tuple, set, dict, string) und behandelt folgende Fragen:\n",
    "- Was ist ein (list, tuple, dict, string, set)?\n",
    "- Wie wird ein (list, tuple, dict, string, set) definiert?\n",
    "- Wie kann die Länge eines (list, tuple, dict, string, set) ermittelt werden?\n",
    "- Wie kann ein Element an ein (list, tuple, dict, string, set) angefügt werden?\n",
    "- Wie kann ein Element in ein (list, tuple, dict, string, set) an einem bestimmten Ort eingefügt werden?\n",
    "- Wie kann ein Element aus einem (list, tuple, dict, string, set) ausgeschnitten/entfernt werden?\n",
    "- Wie kann über ein (list, tuple, dict, string, set) iteriert (jedes einzelne Element verarbeitet) werden?\n",
    "- Wie kann ein Teil (Slice) aus einem (list, tuple, dict, string, set) ausgeschnitten werden?"
   ]
  },
  {
   "cell_type": "markdown",
   "metadata": {},
   "source": [
    "## Was ist ein dict?"
   ]
  },
  {
   "cell_type": "markdown",
   "metadata": {},
   "source": [
    "Ein dict (ausgesprochen Dictionary) ist ein assoziatives Feld. Vereinfacht ausgedrückt bedeutet dies, dass ein dict Schlüssel-Objekt-Paare beinhaltet. In diesem Python Objekt wird einem Schlüssel ein Wert zugewiesen.\n",
    "Wenn man eine Person erfassen will, gibt es den Schlüssel \"Vorname\" und diesem Schlüssel wird ein Wert \"Peter\" zugewiesen. Das wird in den Nachfolgenden Beispielen noch genauer erläutert."
   ]
  },
  {
   "cell_type": "markdown",
   "metadata": {},
   "source": [
    "## Wie wird ein dict definiert?"
   ]
  },
  {
   "cell_type": "code",
   "execution_count": 1,
   "metadata": {
    "collapsed": true
   },
   "outputs": [],
   "source": [
    "empty_dict = {} #leerer dict\n",
    "Person = {\"Name\" : \"Kessler\", \n",
    "          \"Vorname\" : \"Peter\", \n",
    "          \"Arbeitgeber\" : \"ETH Zürich\"}"
   ]
  },
  {
   "cell_type": "code",
   "execution_count": 2,
   "metadata": {},
   "outputs": [
    {
     "data": {
      "text/plain": [
       "dict"
      ]
     },
     "execution_count": 2,
     "metadata": {},
     "output_type": "execute_result"
    }
   ],
   "source": [
    "type(Person)"
   ]
  },
  {
   "cell_type": "markdown",
   "metadata": {},
   "source": [
    "## Wie kann die Länge eines dict ermittelt werden?"
   ]
  },
  {
   "cell_type": "code",
   "execution_count": 10,
   "metadata": {},
   "outputs": [
    {
     "name": "stdout",
     "output_type": "stream",
     "text": [
      "Länge des leeren dict:  0\n",
      "Länge des Person dict:  3\n"
     ]
    }
   ],
   "source": [
    "print (\"Länge des leeren dict: \", len(empty_dict))\n",
    "print (\"Länge des Person dict: \", len(Person))"
   ]
  },
  {
   "cell_type": "markdown",
   "metadata": {},
   "source": [
    "## Wie kann ein Element an ein dict angefügt werden?"
   ]
  },
  {
   "cell_type": "code",
   "execution_count": 11,
   "metadata": {
    "collapsed": true
   },
   "outputs": [],
   "source": [
    "Person[\"Programmiert\"] = \"Python\""
   ]
  },
  {
   "cell_type": "markdown",
   "metadata": {},
   "source": [
    "## Wie kann ein Element in ein dict an einem bestimmten Ort eingefügt werden?"
   ]
  },
  {
   "cell_type": "code",
   "execution_count": null,
   "metadata": {
    "collapsed": true
   },
   "outputs": [],
   "source": []
  },
  {
   "cell_type": "markdown",
   "metadata": {},
   "source": [
    "## Wie kann ein Element aus einem (list, tuple, dict, string, set) ausgeschnitten/entfernt werden?"
   ]
  },
  {
   "cell_type": "code",
   "execution_count": null,
   "metadata": {
    "collapsed": true
   },
   "outputs": [],
   "source": []
  },
  {
   "cell_type": "markdown",
   "metadata": {},
   "source": [
    "## Wie kann ein Element aus einem (list, tuple, dict, string, set) ausgeschnitten/entfernt werden?"
   ]
  },
  {
   "cell_type": "code",
   "execution_count": null,
   "metadata": {
    "collapsed": true
   },
   "outputs": [],
   "source": []
  },
  {
   "cell_type": "markdown",
   "metadata": {},
   "source": [
    "## Wie kann über ein (list, tuple, dict, string, set) iteriert (jedes einzelne Element verarbeitet) werden?"
   ]
  },
  {
   "cell_type": "code",
   "execution_count": null,
   "metadata": {
    "collapsed": true
   },
   "outputs": [],
   "source": []
  },
  {
   "cell_type": "markdown",
   "metadata": {},
   "source": [
    "## Wie kann ein Teil (Slice) aus einem (list, tuple, dict, string, set) ausgeschnitten werden?"
   ]
  },
  {
   "cell_type": "code",
   "execution_count": null,
   "metadata": {
    "collapsed": true
   },
   "outputs": [],
   "source": []
  },
  {
   "cell_type": "markdown",
   "metadata": {},
   "source": [
    "## Wie kann ich prüfen, ob etwas in dem (list, tuple, dict, string, set) enthalten ist?"
   ]
  },
  {
   "cell_type": "code",
   "execution_count": null,
   "metadata": {
    "collapsed": true
   },
   "outputs": [],
   "source": []
  },
  {
   "cell_type": "markdown",
   "metadata": {},
   "source": [
    "## Was gibt es sonst noch spannendes zu (list, tuple, dict, string, set) erzählen?"
   ]
  },
  {
   "cell_type": "markdown",
   "metadata": {},
   "source": [
    "......."
   ]
  }
 ],
 "metadata": {
  "kernelspec": {
   "display_name": "Python 3",
   "language": "python",
   "name": "python3"
  },
  "language_info": {
   "codemirror_mode": {
    "name": "ipython",
    "version": 3
   },
   "file_extension": ".py",
   "mimetype": "text/x-python",
   "name": "python",
   "nbconvert_exporter": "python",
   "pygments_lexer": "ipython3",
   "version": "3.6.3"
  }
 },
 "nbformat": 4,
 "nbformat_minor": 2
}
