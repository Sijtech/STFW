{
 "cells": [
  {
   "cell_type": "markdown",
   "metadata": {},
   "source": [
    "# Python Data Structure: dict"
   ]
  },
  {
   "cell_type": "markdown",
   "metadata": {},
   "source": [
    "Dieses Beispiel behandelt Python (list, tuple, set, dict, string) und behandelt folgende Fragen:\n",
    "- Was ist ein (list, tuple, dict, string, set)?\n",
    "- Wie wird ein (list, tuple, dict, string, set) definiert?\n",
    "- Wie kann die Länge eines (list, tuple, dict, string, set) ermittelt werden?\n",
    "- Wie kann ein Element an ein (list, tuple, dict, string, set) angefügt werden?\n",
    "- Wie kann ein Element in ein (list, tuple, dict, string, set) an einem bestimmten Ort eingefügt werden?\n",
    "- Wie kann ein Element aus einem (list, tuple, dict, string, set) ausgeschnitten/entfernt werden?\n",
    "- Wie kann über ein (list, tuple, dict, string, set) iteriert (jedes einzelne Element verarbeitet) werden?\n",
    "- Wie kann ein Teil (Slice) aus einem (list, tuple, dict, string, set) ausgeschnitten werden?"
   ]
  },
  {
   "cell_type": "markdown",
   "metadata": {},
   "source": [
    "## Was ist ein dict?"
   ]
  },
  {
   "cell_type": "markdown",
   "metadata": {},
   "source": [
    "Ein dict (ausgesprochen Dictionary) ist ein assoziatives Feld. Vereinfacht ausgedrückt bedeutet dies, dass ein dict Schlüssel-Objekt-Paare beinhaltet. In diesem Python Objekt wird einem Schlüssel ein Wert zugewiesen.\n",
    "Wenn man eine Person erfassen will, gibt es den Schlüssel \"Vorname\" und diesem Schlüssel wird ein Wert \"Peter\" zugewiesen. Das wird in den Nachfolgenden Beispielen noch genauer erläutert."
   ]
  },
  {
   "cell_type": "markdown",
   "metadata": {},
   "source": [
    "## Wie wird ein dict definiert?"
   ]
  },
  {
   "cell_type": "code",
   "execution_count": 4,
   "metadata": {
    "collapsed": true
   },
   "outputs": [],
   "source": [
    "empty_dict = {} #leerer dict\n",
    "Person = {\"Name\" : \"Kessler\", \n",
    "          \"Vorname\" : \"Peter\", \n",
    "          \"Arbeitgeber\" : \"ETH Zürich\"}"
   ]
  },
  {
   "cell_type": "code",
   "execution_count": 5,
   "metadata": {},
   "outputs": [
    {
     "data": {
      "text/plain": [
       "dict"
      ]
     },
     "execution_count": 5,
     "metadata": {},
     "output_type": "execute_result"
    }
   ],
   "source": [
    "type(Person)"
   ]
  },
  {
   "cell_type": "markdown",
   "metadata": {},
   "source": [
    "## Wie kann die Länge eines dict ermittelt werden?"
   ]
  },
  {
   "cell_type": "code",
   "execution_count": 7,
   "metadata": {},
   "outputs": [
    {
     "name": "stdout",
     "output_type": "stream",
     "text": [
      "Länge des leeren dict:  0\n",
      "Länge des Person dict:  4\n"
     ]
    }
   ],
   "source": [
    "print (\"Länge des leeren dict: \", len(empty_dict))\n",
    "print (\"Länge des Person dict: \", len(Person))"
   ]
  },
  {
   "cell_type": "markdown",
   "metadata": {},
   "source": [
    "## Wie kann ein Element an ein dict angefügt werden?"
   ]
  },
  {
   "cell_type": "code",
   "execution_count": 12,
   "metadata": {
    "collapsed": true
   },
   "outputs": [],
   "source": [
    "Person[\"Programmiert\"] = \"Python\""
   ]
  },
  {
   "cell_type": "markdown",
   "metadata": {},
   "source": [
    "## Wie kann ein Element in ein dict an einem bestimmten Ort eingefügt werden?"
   ]
  },
  {
   "cell_type": "code",
   "execution_count": 17,
   "metadata": {
    "collapsed": true
   },
   "outputs": [
    {
     "data": {
      "text/plain": [
       "'Existiert nicht'"
      ]
     },
     "execution_count": 17,
     "metadata": {},
     "output_type": "execute_result"
    }
   ],
   "source": []
  },
  {
   "cell_type": "markdown",
   "metadata": {},
   "source": [
    "## Wie kann ein Element aus einem dict ausgeschnitten/entfernt werden?"
   ]
  },
  {
   "cell_type": "code",
   "execution_count": 27,
   "metadata": {},
   "outputs": [
    {
     "data": {
      "text/plain": [
       "'Existiert nicht'"
      ]
     },
     "execution_count": 27,
     "metadata": {},
     "output_type": "execute_result"
    }
   ],
   "source": [
    "Person.pop(\"Programmiert\", \"Existiert nicht\") #Person.pop(\"Schlüssel\"[, \"Rückgabe, wenn Key nicht vorhanden\"])"
   ]
  },
  {
   "cell_type": "code",
   "execution_count": 20,
   "metadata": {},
   "outputs": [
    {
     "data": {
      "text/plain": [
       "{'Arbeitgeber': 'ETH Zürich', 'Name': 'Kessler', 'Vorname': 'Peter'}"
      ]
     },
     "execution_count": 20,
     "metadata": {},
     "output_type": "execute_result"
    }
   ],
   "source": [
    "Person"
   ]
  },
  {
   "cell_type": "markdown",
   "metadata": {},
   "source": [
    "## Wie kann über ein dict iteriert (jedes einzelne Element verarbeitet) werden?"
   ]
  },
  {
   "cell_type": "markdown",
   "metadata": {},
   "source": [
    "### Var 1"
   ]
  },
  {
   "cell_type": "code",
   "execution_count": 26,
   "metadata": {},
   "outputs": [
    {
     "name": "stdout",
     "output_type": "stream",
     "text": [
      "Name  =  Kessler\n",
      "Vorname  =  Peter\n",
      "Arbeitgeber  =  ETH Zürich\n"
     ]
    }
   ],
   "source": [
    "for key in Person.keys():\n",
    "    print (key, \" = \", Person[key])"
   ]
  },
  {
   "cell_type": "markdown",
   "metadata": {},
   "source": [
    "### Var 2"
   ]
  },
  {
   "cell_type": "code",
   "execution_count": 24,
   "metadata": {},
   "outputs": [
    {
     "name": "stdout",
     "output_type": "stream",
     "text": [
      "Name = Kessler\n",
      "Vorname = Peter\n",
      "Arbeitgeber = ETH Zürich\n"
     ]
    }
   ],
   "source": [
    "for key,val in Person.items():\n",
    "    print (key, \"=\", val)"
   ]
  },
  {
   "cell_type": "markdown",
   "metadata": {},
   "source": [
    "## Wie kann ein Teil (Slice) aus einem dict ausgeschnitten werden?"
   ]
  },
  {
   "cell_type": "code",
   "execution_count": null,
   "metadata": {
    "collapsed": true
   },
   "outputs": [],
   "source": []
  },
  {
   "cell_type": "markdown",
   "metadata": {},
   "source": [
    "## Wie kann ich prüfen, ob etwas in dem dict enthalten ist?"
   ]
  },
  {
   "cell_type": "code",
   "execution_count": null,
   "metadata": {
    "collapsed": true
   },
   "outputs": [],
   "source": []
  },
  {
   "cell_type": "markdown",
   "metadata": {},
   "source": [
    "## Was gibt es sonst noch spannendes zu dict erzählen?"
   ]
  },
  {
   "cell_type": "markdown",
   "metadata": {},
   "source": [
    "......."
   ]
  }
 ],
 "metadata": {
  "kernelspec": {
   "display_name": "Python 3",
   "language": "python",
   "name": "python3"
  },
  "language_info": {
   "codemirror_mode": {
    "name": "ipython",
    "version": 3
   },
   "file_extension": ".py",
   "mimetype": "text/x-python",
   "name": "python",
   "nbconvert_exporter": "python",
   "pygments_lexer": "ipython3",
   "version": "3.6.3"
  }
 },
 "nbformat": 4,
 "nbformat_minor": 2
}
