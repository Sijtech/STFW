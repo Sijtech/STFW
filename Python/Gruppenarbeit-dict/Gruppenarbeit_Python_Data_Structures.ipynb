{
 "cells": [
  {
   "cell_type": "markdown",
   "metadata": {},
   "source": [
    "# Python Data Structure: ........."
   ]
  },
  {
   "cell_type": "markdown",
   "metadata": {},
   "source": [
    "Dieses Beispiel behandelt Python (list, tuple, set, dict, string) und behandelt folgende Fragen:\n",
    "- Was ist ein (list, tuple, dict, string, set)?\n",
    "- Wie wird ein (list, tuple, dict, string, set) definiert?\n",
    "- Wie kann die Länge eines (list, tuple, dict, string, set) ermittelt werden?\n",
    "- Wie kann ein Element an ein (list, tuple, dict, string, set) angefügt werden?\n",
    "- Wie kann ein Element in ein (list, tuple, dict, string, set) an einem bestimmten Ort eingefügt werden?\n",
    "- Wie kann ein Element aus einem (list, tuple, dict, string, set) ausgeschnitten/entfernt werden?\n",
    "- Wie kann über ein (list, tuple, dict, string, set) iteriert (jedes einzelne Element verarbeitet) werden?\n",
    "- Wie kann ein Teil (Slice) aus einem (list, tuple, dict, string, set) ausgeschnitten werden?"
   ]
  },
  {
   "cell_type": "markdown",
   "metadata": {},
   "source": [
    "## Was ist ein (list, tuple, dict, string, set)?"
   ]
  },
  {
   "cell_type": "markdown",
   "metadata": {},
   "source": [
    "......"
   ]
  },
  {
   "cell_type": "markdown",
   "metadata": {},
   "source": [
    "## Wie wird ein (list, tuple, dict, string, set) definiert?"
   ]
  },
  {
   "cell_type": "code",
   "execution_count": null,
   "metadata": {
    "collapsed": true
   },
   "outputs": [],
   "source": []
  },
  {
   "cell_type": "markdown",
   "metadata": {},
   "source": [
    "## Wie kann die Länge eines (list, tuple, dict, string, set) ermittelt werden?"
   ]
  },
  {
   "cell_type": "code",
   "execution_count": null,
   "metadata": {
    "collapsed": true
   },
   "outputs": [],
   "source": []
  },
  {
   "cell_type": "markdown",
   "metadata": {},
   "source": [
    "## Wie kann ein Element an ein (list, tuple, dict, string, set) angefügt werden?"
   ]
  },
  {
   "cell_type": "code",
   "execution_count": null,
   "metadata": {
    "collapsed": true
   },
   "outputs": [],
   "source": []
  },
  {
   "cell_type": "markdown",
   "metadata": {},
   "source": [
    "## Wie kann ein Element in ein (list, tuple, dict, string, set) an einem bestimmten Ort eingefügt werden?"
   ]
  },
  {
   "cell_type": "code",
   "execution_count": null,
   "metadata": {
    "collapsed": true
   },
   "outputs": [],
   "source": []
  },
  {
   "cell_type": "markdown",
   "metadata": {},
   "source": [
    "## Wie kann ein Element aus einem (list, tuple, dict, string, set) ausgeschnitten/entfernt werden?"
   ]
  },
  {
   "cell_type": "code",
   "execution_count": null,
   "metadata": {
    "collapsed": true
   },
   "outputs": [],
   "source": []
  },
  {
   "cell_type": "markdown",
   "metadata": {},
   "source": [
    "## Wie kann ein Element aus einem (list, tuple, dict, string, set) ausgeschnitten/entfernt werden?"
   ]
  },
  {
   "cell_type": "code",
   "execution_count": null,
   "metadata": {
    "collapsed": true
   },
   "outputs": [],
   "source": []
  },
  {
   "cell_type": "markdown",
   "metadata": {},
   "source": [
    "## Wie kann über ein (list, tuple, dict, string, set) iteriert (jedes einzelne Element verarbeitet) werden?"
   ]
  },
  {
   "cell_type": "code",
   "execution_count": null,
   "metadata": {
    "collapsed": true
   },
   "outputs": [],
   "source": []
  },
  {
   "cell_type": "markdown",
   "metadata": {},
   "source": [
    "## Wie kann ein Teil (Slice) aus einem (list, tuple, dict, string, set) ausgeschnitten werden?"
   ]
  },
  {
   "cell_type": "code",
   "execution_count": null,
   "metadata": {
    "collapsed": true
   },
   "outputs": [],
   "source": []
  },
  {
   "cell_type": "markdown",
   "metadata": {},
   "source": [
    "## Wie kann ich prüfen, ob etwas in dem (list, tuple, dict, string, set) enthalten ist?"
   ]
  },
  {
   "cell_type": "code",
   "execution_count": null,
   "metadata": {
    "collapsed": true
   },
   "outputs": [],
   "source": []
  },
  {
   "cell_type": "markdown",
   "metadata": {},
   "source": [
    "## Was gibt es sonst noch spannendes zu (list, tuple, dict, string, set) erzählen?"
   ]
  },
  {
   "cell_type": "markdown",
   "metadata": {},
   "source": [
    "......."
   ]
  }
 ],
 "metadata": {
  "kernelspec": {
   "display_name": "Python 3",
   "language": "python",
   "name": "python3"
  },
  "language_info": {
   "codemirror_mode": {
    "name": "ipython",
    "version": 3
   },
   "file_extension": ".py",
   "mimetype": "text/x-python",
   "name": "python",
   "nbconvert_exporter": "python",
   "pygments_lexer": "ipython3",
   "version": "3.6.3"
  }
 },
 "nbformat": 4,
 "nbformat_minor": 2
}
